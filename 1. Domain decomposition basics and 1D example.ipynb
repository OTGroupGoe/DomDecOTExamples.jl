{
 "cells": [
  {
   "cell_type": "markdown",
   "id": "41012c2d",
   "metadata": {},
   "source": [
    "# Domain decomposition and the `DomDecOT.jl` library\n",
    "\n",
    "This notebook is an introduction to the workings of the library `DomDecOT.jl` for solving (entropic) optimal transport problems with the domain decomposition algorithm. For a more direct approach applied to a 2D problem see notebook 2. If you are familiar with the domain decomposition algorithm you may skip the explanation below. \n",
    "\n",
    "## The domain decomposition algorithm\n",
    "\n",
    "The domain decomposition method works by dividing the optimal transport problem into smaller problems, solving them independently and combining the partial solutions together. It is described and analysed in depth in this paper by Bonafini and Schmitzer: https://arxiv.org/abs/2001.10986. Under an appropriate choice of the subproblems, it converges linearly to the optimal solution. Thus it is amenable to parallelization and efficient.\n",
    "\n",
    "For starting the domain decomposition algorithm we need\n",
    "\n",
    "\n",
    "* Two probability measures, $\\mu$ on $X$ and $\\nu$ on $Y$.\n",
    "* A sequence of subdomains of $X$, namely $(X_k)_k$ (usually organized into two _partitions_ of the domain $X$).\n",
    "* An initial, feasible coupling $\\pi_0\\in \\Pi(\\mu, \\nu)$.\n",
    "* Some regularization parameter $\\varepsilon\\ge0$.\n",
    "\t\n",
    "Then each iteration $k=1,2,...$ of the domain decomposition algorithm consists in the following steps\n",
    "1. Get the partial marginals:\n",
    "$$\n",
    "\\mu_k  \\leftarrow \\mu {\\Large\\llcorner}  X_k,\n",
    "    \\qquad \n",
    "    \\nu_k \\leftarrow \\text{P}_Y(\\pi^{k-1} {\\Large\\llcorner} (X_k \\times Y)).\n",
    "$$\n",
    "where the operator ${\\Large\\llcorner} $ denotes the restriction of a measure to a set.\n",
    "2. Solve the (entropic) OT problem for measures $\\mu_k$ and $\\nu_k$:\n",
    "$$\\tilde{\\pi} \\leftarrow \\displaystyle \\text{argmin}_{\\pi \\in \\Pi(\\mu_k, \\nu_k)} \\int_{X\\times Y} c\\text{d} \\pi + \\varepsilon \\text{KL}(\\pi | \\mu\\otimes \\nu).$$\n",
    "3. Update the global plan\n",
    "$$\\pi^k \n",
    "\\leftarrow\n",
    "\\pi^{k-1} {\\Large\\llcorner} ( (X\\backslash X_k) \\times Y)\n",
    "+\n",
    "\\tilde{\\pi}$$\n",
    "\t\t\n",
    "Naturally, if the subdomains $X_k, X_{k+1}$ are disjoint, their corresponding iterations can be performed in parallel; this allows for thorough parallelization. Besides, on the memory requirements part, we don't need to store the whole coupling, but just being able to compute $\\nu_k$ on each iteration. This can be achieved very efficiently if we choose the subdomains $X_k$ in such a way that they are unions of some partition of $X$ called _basic cells_ $(\\tilde{X}_i)_{i\\in I}$. I.e., we impose that \n",
    "\n",
    "$$X_k = \\bigcup_{j \\in J_k} \\tilde{X}_j$$ \n",
    "for certain subsets $J_k \\subset I$. Then defining\n",
    "\n",
    "$$\\tilde{\\nu}_{k,j} \\leftarrow \\text{P}_Y(\\pi^{k} {\\Large\\llcorner} (\\tilde{X}_j \\times Y))\\quad \\text{for each }k, i$$\n",
    "step 1. turns into\n",
    "$$\n",
    "\\mu_k  \\leftarrow \\mu {\\Large\\llcorner}  X_k,\n",
    "    \\qquad \n",
    "    \\nu_k \\leftarrow \\sum_{j\\in J_k} \\tilde{\\nu}_{k,j}\n",
    "$$\n",
    "\n",
    "And so we only need to store the _basic cell marginals_ $\\tilde{\\nu}_{k,i}$. This allows for a great reduction in the algorithm memory requirements with respect to a sparse sinkhorn implementation, which makes it also very amenable to parallelization.\n",
    "\n",
    "## The `DomDecOT.jl` library in a 1D example\n",
    "\n",
    "This library follows closely the implementation given in https://arxiv.org/abs/2001.10986 for the domain decomposition algorithm. We store the state of the algorithm in a `DomDecPlan`; its inner workings will be reviewed now. First, let us define some measures on $X$ and $Y$, as well as a coupling."
   ]
  },
  {
   "cell_type": "code",
   "execution_count": 35,
   "id": "b406d4ec",
   "metadata": {},
   "outputs": [
    {
     "name": "stderr",
     "output_type": "stream",
     "text": [
      "\u001b[32m\u001b[1m  Activating\u001b[22m\u001b[39m environment at `~/PhD/DomDec/DomDecOTExamples.jl/Project.toml`\n",
      "\u001b[32m\u001b[1m    Updating\u001b[22m\u001b[39m registry at `~/.julia/registries/General`\n",
      "\u001b[32m\u001b[1m   Resolving\u001b[22m\u001b[39m package versions...\n",
      "\u001b[32m\u001b[1m   Installed\u001b[22m\u001b[39m PyPlot ─ v2.10.0\n",
      "\u001b[32m\u001b[1m   Installed\u001b[22m\u001b[39m PyCall ─ v1.92.5\n",
      "\u001b[32m\u001b[1m    Updating\u001b[22m\u001b[39m `~/PhD/DomDec/DomDecOTExamples.jl/Project.toml`\n",
      " \u001b[90m [d330b81b] \u001b[39m\u001b[92m+ PyPlot v2.10.0\u001b[39m\n",
      "\u001b[32m\u001b[1m    Updating\u001b[22m\u001b[39m `~/PhD/DomDec/DomDecOTExamples.jl/Manifest.toml`\n",
      " \u001b[90m [8f4d0f93] \u001b[39m\u001b[92m+ Conda v1.5.2\u001b[39m\n",
      " \u001b[90m [438e738f] \u001b[39m\u001b[92m+ PyCall v1.92.5\u001b[39m\n",
      " \u001b[90m [d330b81b] \u001b[39m\u001b[92m+ PyPlot v2.10.0\u001b[39m\n",
      " \u001b[90m [81def892] \u001b[39m\u001b[92m+ VersionParsing v1.2.1\u001b[39m\n",
      "\u001b[32m\u001b[1m    Building\u001b[22m\u001b[39m PyCall → `~/.julia/scratchspaces/44cfe95a-1eb2-52ea-b672-e2afdf69b78f/4ba3651d33ef76e24fef6a598b63ffd1c5e1cd17/build.log`\n",
      "\u001b[32m\u001b[1mPrecompiling\u001b[22m\u001b[39m project...\n",
      "\u001b[32m  ✓ \u001b[39m\u001b[90mPyCall\u001b[39m\n",
      "\u001b[32m  ✓ \u001b[39mPyPlot\n",
      "  2 dependencies successfully precompiled in 6 seconds (146 already precompiled)\n"
     ]
    }
   ],
   "source": [
    "import Pkg; Pkg.activate(\".\"); Pkg.instantiate() # Activate environment\n",
    "Pkg.add(\"PyPlot\")"
   ]
  },
  {
   "cell_type": "code",
   "execution_count": 36,
   "id": "1973acd5",
   "metadata": {},
   "outputs": [
    {
     "data": {
      "image/png": "[encoded data removed]"
     },
     "execution_count": 36,
     "metadata": {},
     "output_type": "execute_result"
    }
   ],
   "source": [
    "using DomDecOT\n",
    "using MultiScaleOT\n",
    "using Plots\n",
    "pyplot()\n",
    "default(size = (400, 400), legend = :none, aspect_ratio = :equal, showaxis = false)\n",
    "\n",
    "function setup_domdec_flipped_three_cells(N)\n",
    "\n",
    "    μ = ones(N); μ ./= sum(μ)\n",
    "    x1 = collect(1.:N)./N\n",
    "    X = flat_grid(x1)\n",
    "    shapeX = (N,)\n",
    "    \n",
    "    # Setup the measures\n",
    "    mu = GridMeasure(X, μ, shapeX)\n",
    "    nu = deepcopy(mu)\n",
    "    \n",
    "    # This matrix corresponds to the \"flipped\" of an identity, as we will see in the plot\n",
    "    plan0 = [(i==N+1-j)/N for j in 1:N, i in 1:N]\n",
    "    return mu, nu, plan0\n",
    "end\n",
    "   \n",
    "n = 32\n",
    "mu, nu, plan0 = setup_domdec_flipped_three_cells(3*n)\n",
    "p0 = heatmap(plan0, title = \"k=0\")\n",
    "plot!()"
   ]
  },
  {
   "cell_type": "markdown",
   "id": "195aa3bb",
   "metadata": {},
   "source": [
    "For setting up a plan we give the $X$ marginal `mu`, the $Y$ marginal `nu`, an initial plan `plan0` (that can be a sparse or dense matrix, or a list of basic cell marginals, as explained above) and a _cellsize_, which is the size of the basic cells. In our case the domain $X$ has size `3n` and we give a cellsize of `n`, indicating that the domain will be divided into 3 chunks of size `n`."
   ]
  },
  {
   "cell_type": "code",
   "execution_count": 37,
   "id": "f03ec8de",
   "metadata": {},
   "outputs": [
    {
     "data": {
      "text/plain": [
       "DomDecPlan with cellsize 32 and marginals\n",
       "    mu: 1D GridMeasure with gridshape (96,)\n",
       "    nu: 1D GridMeasure with gridshape (96,)"
      ]
     },
     "execution_count": 37,
     "metadata": {},
     "output_type": "execute_result"
    }
   ],
   "source": [
    "P0 = DomDecPlan(mu, nu, plan0, n)"
   ]
  },
  {
   "cell_type": "markdown",
   "id": "dc64ce85",
   "metadata": {},
   "source": [
    "`P0.gamma` contains the basic cell marginals of the initial plan, in form of sparse vectors."
   ]
  },
  {
   "cell_type": "code",
   "execution_count": 38,
   "id": "c5b2060a",
   "metadata": {},
   "outputs": [
    {
     "data": {
      "text/plain": [
       "Vector{SparseArrays.SparseVector{Float64, Int64}} (alias for Array{SparseArrays.SparseVector{Float64, Int64}, 1})"
      ]
     },
     "execution_count": 38,
     "metadata": {},
     "output_type": "execute_result"
    }
   ],
   "source": [
    "typeof(P0.gamma)"
   ]
  },
  {
   "cell_type": "code",
   "execution_count": 39,
   "id": "562f27c8",
   "metadata": {},
   "outputs": [
    {
     "data": {
      "text/plain": [
       "96-element SparseArrays.SparseVector{Float64, Int64} with 32 stored entries:\n",
       "  [65]  =  0.0104167\n",
       "  [66]  =  0.0104167\n",
       "  [67]  =  0.0104167\n",
       "  [68]  =  0.0104167\n",
       "  [69]  =  0.0104167\n",
       "  [70]  =  0.0104167\n",
       "  [71]  =  0.0104167\n",
       "  [72]  =  0.0104167\n",
       "  [73]  =  0.0104167\n",
       "  [74]  =  0.0104167\n",
       "        ⋮\n",
       "  [86]  =  0.0104167\n",
       "  [87]  =  0.0104167\n",
       "  [88]  =  0.0104167\n",
       "  [89]  =  0.0104167\n",
       "  [90]  =  0.0104167\n",
       "  [91]  =  0.0104167\n",
       "  [92]  =  0.0104167\n",
       "  [93]  =  0.0104167\n",
       "  [94]  =  0.0104167\n",
       "  [95]  =  0.0104167\n",
       "  [96]  =  0.0104167"
      ]
     },
     "execution_count": 39,
     "metadata": {},
     "output_type": "execute_result"
    }
   ],
   "source": [
    "P0.gamma[1]"
   ]
  },
  {
   "cell_type": "markdown",
   "id": "0c388ba2",
   "metadata": {},
   "source": [
    "Basic cells can be accessed as `P0.basic_cells`. "
   ]
  },
  {
   "cell_type": "code",
   "execution_count": 40,
   "id": "89acc43e",
   "metadata": {},
   "outputs": [
    {
     "data": {
      "text/plain": [
       "3-element Vector{Vector{Int64}}:\n",
       " [1, 2, 3, 4, 5, 6, 7, 8, 9, 10  …  23, 24, 25, 26, 27, 28, 29, 30, 31, 32]\n",
       " [33, 34, 35, 36, 37, 38, 39, 40, 41, 42  …  55, 56, 57, 58, 59, 60, 61, 62, 63, 64]\n",
       " [65, 66, 67, 68, 69, 70, 71, 72, 73, 74  …  87, 88, 89, 90, 91, 92, 93, 94, 95, 96]"
      ]
     },
     "execution_count": 40,
     "metadata": {},
     "output_type": "execute_result"
    }
   ],
   "source": [
    "P0.basic_cells"
   ]
  },
  {
   "cell_type": "markdown",
   "id": "8b8c7907",
   "metadata": {},
   "source": [
    "Composite cells are the `J_k` in the mathematical description above; they indicate which basic cells must be merged to obtain each of the subdomains."
   ]
  },
  {
   "cell_type": "code",
   "execution_count": 41,
   "id": "a6e04df8",
   "metadata": {},
   "outputs": [
    {
     "data": {
      "text/plain": [
       "2-element Vector{Vector{Vector{Int64}}}:\n",
       " [[1, 2], [3]]\n",
       " [[1], [2, 3]]"
      ]
     },
     "execution_count": 41,
     "metadata": {},
     "output_type": "execute_result"
    }
   ],
   "source": [
    "P0.composite_cells"
   ]
  },
  {
   "cell_type": "markdown",
   "id": "fe6d90a6",
   "metadata": {},
   "source": [
    "For convenience, we also store the indices of the $X_J$ themselves, this is, the union of basic cells corresponding to each subdomain. \n",
    "\n",
    "In this case we have two partitions, one consisting in the subdomains `1:2n`, `2n+1:3n` and the other consisting in the subdomains `1:n, n+1:2n`. "
   ]
  },
  {
   "cell_type": "code",
   "execution_count": 42,
   "id": "c7153b00",
   "metadata": {},
   "outputs": [
    {
     "data": {
      "text/plain": [
       "2-element Vector{Vector{Vector{Int64}}}:\n",
       " [[1, 2, 3, 4, 5, 6, 7, 8, 9, 10  …  55, 56, 57, 58, 59, 60, 61, 62, 63, 64], [65, 66, 67, 68, 69, 70, 71, 72, 73, 74  …  87, 88, 89, 90, 91, 92, 93, 94, 95, 96]]\n",
       " [[1, 2, 3, 4, 5, 6, 7, 8, 9, 10  …  23, 24, 25, 26, 27, 28, 29, 30, 31, 32], [33, 34, 35, 36, 37, 38, 39, 40, 41, 42  …  87, 88, 89, 90, 91, 92, 93, 94, 95, 96]]"
      ]
     },
     "execution_count": 42,
     "metadata": {},
     "output_type": "execute_result"
    }
   ],
   "source": [
    "P0.partitions"
   ]
  },
  {
   "cell_type": "markdown",
   "id": "eb24814c",
   "metadata": {},
   "source": [
    "The standard way of solving the entropic problem will be to invoke the sinkhorn algorithm. Thus, we keep track of the dual variables in each of the subdomains of each partition."
   ]
  },
  {
   "cell_type": "code",
   "execution_count": 43,
   "id": "cf9f39ac",
   "metadata": {},
   "outputs": [
    {
     "data": {
      "text/plain": [
       "2-element Vector{Vector{Vector{Float64}}}:\n",
       " [[0.0, 0.0, 0.0, 0.0, 0.0, 0.0, 0.0, 0.0, 0.0, 0.0  …  0.0, 0.0, 0.0, 0.0, 0.0, 0.0, 0.0, 0.0, 0.0, 0.0], [0.0, 0.0, 0.0, 0.0, 0.0, 0.0, 0.0, 0.0, 0.0, 0.0  …  0.0, 0.0, 0.0, 0.0, 0.0, 0.0, 0.0, 0.0, 0.0, 0.0]]\n",
       " [[0.0, 0.0, 0.0, 0.0, 0.0, 0.0, 0.0, 0.0, 0.0, 0.0  …  0.0, 0.0, 0.0, 0.0, 0.0, 0.0, 0.0, 0.0, 0.0, 0.0], [0.0, 0.0, 0.0, 0.0, 0.0, 0.0, 0.0, 0.0, 0.0, 0.0  …  0.0, 0.0, 0.0, 0.0, 0.0, 0.0, 0.0, 0.0, 0.0, 0.0]]"
      ]
     },
     "execution_count": 43,
     "metadata": {},
     "output_type": "execute_result"
    }
   ],
   "source": [
    "P0.alphas"
   ]
  },
  {
   "cell_type": "code",
   "execution_count": 44,
   "id": "2c324dd4",
   "metadata": {},
   "outputs": [
    {
     "data": {
      "text/plain": [
       "2-element Vector{Vector{Vector{Float64}}}:\n",
       " [[], []]\n",
       " [[], []]"
      ]
     },
     "execution_count": 44,
     "metadata": {},
     "output_type": "execute_result"
    }
   ],
   "source": [
    "P0.betas"
   ]
  },
  {
   "cell_type": "markdown",
   "id": "cc9d0441",
   "metadata": {},
   "source": [
    "Finally, we also keep track of which was the last iteration that was solve in the domain decomposition algorithm, as well as the value of $\\varepsilon$ that was used. This will be useful for recovering the global plan."
   ]
  },
  {
   "cell_type": "code",
   "execution_count": 45,
   "id": "61332076",
   "metadata": {},
   "outputs": [
    {
     "data": {
      "text/plain": [
       "(0, 1.0)"
      ]
     },
     "execution_count": 45,
     "metadata": {},
     "output_type": "execute_result"
    }
   ],
   "source": [
    "P0.partk, P0.epsilon"
   ]
  },
  {
   "cell_type": "markdown",
   "id": "5235a292",
   "metadata": {},
   "source": [
    "# Solving the problem\n",
    "\n",
    "For solving the problem we need to set up a number of parameters. This is automatized when solving big problems (as shown in notebook 2.), but here we go a bit more on detail over them: "
   ]
  },
  {
   "cell_type": "code",
   "execution_count": 46,
   "id": "6e028eb3",
   "metadata": {},
   "outputs": [
    {
     "data": {
      "text/plain": [
       "domdec_sinkhorn_stabilized! (generic function with 1 method)"
      ]
     },
     "execution_count": 46,
     "metadata": {},
     "output_type": "execute_result"
    }
   ],
   "source": [
    "c(x,y) = sum((x.-y).^2)                   # The squared cost, any other can be provided\n",
    "\n",
    "params = (; epsilon = 0.001,              # Epsilon for the entropic problems\n",
    "            solver_max_error = 1e-4,      # Max error for subproblem solver  \n",
    "            solver_max_error_rel=true,    # Whether solver_max_error must be multiplied by the mass of the cell\n",
    "            solver_max_iter = 10000,      # Max iters for subproblem solver\n",
    "            solver_verbose = true,        # verbose mode for subproblem solver\n",
    "            balance = true,               # Ensuring correctness on X marignals, see Section 6.2 of main paper\n",
    "            truncate = true,              # Whether to truncate values to have sparse basic cell marginals\n",
    "            truncate_Ythresh = 1e-15,     # Threshold for truncation\n",
    "            truncate_Ythresh_rel = false # Whether the threshold must be multiplied by the mass of the cell\n",
    "        );\n",
    "\n",
    "solver = domdec_sinkhorn_stabilized!      # This is a fast, typically stable solver (if good duals are provided)\n",
    "#solver = domdec_logsinkhorn!             # This is a slower, but stable solver"
   ]
  },
  {
   "cell_type": "markdown",
   "id": "1d098208",
   "metadata": {},
   "source": [
    "Solve problem on the cells of the first partition and update the plan with their solutions"
   ]
  },
  {
   "cell_type": "code",
   "execution_count": 47,
   "id": "52fc52a4",
   "metadata": {},
   "outputs": [],
   "source": [
    "# Copy initialization\n",
    "P = deepcopy(P0)\n",
    "# Perform a first iteration\n",
    "iterate_serial!(P, 1, c, solver, params)"
   ]
  },
  {
   "cell_type": "markdown",
   "id": "35c8cef9",
   "metadata": {},
   "source": [
    "Plot the resulting plan. It can be retrieved back with `plan_to_dense_matrix` (`plan_to_sparse_matrix` also works). Note that the first dimension of `A` will correspond to `Y`, and the second to `X` (this is the most natural way of computing the global plan given the column-major format of julia arrays). The white vertical line marks the limit of the subdomains, on which we have solved the problems. The blur is due to the entropic solution, choosing a smaller epsilon leads to a crisper plan."
   ]
  },
  {
   "cell_type": "code",
   "execution_count": 48,
   "id": "fd280da2",
   "metadata": {},
   "outputs": [
    {
     "data": {
      "image/png": "[encoded data removed]"
     },
     "execution_count": 48,
     "metadata": {},
     "output_type": "execute_result"
    }
   ],
   "source": [
    "# Convert plan to dense matrix\n",
    "A = plan_to_dense_matrix(P, c)\n",
    "# Plot plan, and show limit of partitions in this iteration\n",
    "p1 = heatmap(A, title = \"k=1\")\n",
    "vline!([2n.+0.5], color = :white)"
   ]
  },
  {
   "cell_type": "markdown",
   "id": "888904f5",
   "metadata": {},
   "source": [
    "Perform a second iteration on the subdomains of the other partition, leaving their Y-marginals fixed:"
   ]
  },
  {
   "cell_type": "code",
   "execution_count": 49,
   "id": "811e9d78",
   "metadata": {},
   "outputs": [
    {
     "data": {
      "image/png": "[encoded data removed]"
     },
     "execution_count": 49,
     "metadata": {},
     "output_type": "execute_result"
    }
   ],
   "source": [
    "iterate_serial!(P, 2, c, solver, params)\n",
    "A = plan_to_dense_matrix(P, c)\n",
    "p2 = heatmap(A, title = \"k=2\")\n",
    "vline!([n.+0.5], color = :white)"
   ]
  },
  {
   "cell_type": "markdown",
   "id": "e2ea2beb",
   "metadata": {},
   "source": [
    "Perform a third iteration and show all of them"
   ]
  },
  {
   "cell_type": "code",
   "execution_count": 50,
   "id": "11205398",
   "metadata": {},
   "outputs": [
    {
     "data": {
      "image/png": "[encoded data removed]"
     },
     "execution_count": 50,
     "metadata": {},
     "output_type": "execute_result"
    }
   ],
   "source": [
    "iterate_serial!(P, 3, c, solver, params)\n",
    "A = plan_to_dense_matrix(P, c)\n",
    "p3 = heatmap(A, title = \"k=3\")\n",
    "vline!([2n.+0.5], color = :white)\n",
    "plot(p0, p1, p2, p3, layout = (1,4), size = (980, 240))"
   ]
  },
  {
   "cell_type": "markdown",
   "id": "4ab92238",
   "metadata": {},
   "source": [
    "We needed 3 iterations to obtain a plan that resembles the optimal solution. In fact, if we run the domain decomposition on a fixed resolution, we observe that we need approximately a number of iterations proportional to the number of basic cells to converge to the optimal solution (for the relation of domain decomposition with parallel bubble sort see Section 5 of https://arxiv.org/abs/2001.10986). This means that, if we run a coarse-to-fine scheme, where the last iterate at a coarser level serves as initialization to the finer one, we need a number of iterations that is _logarithmic_ in the size of the finest problem (assuming the cellsize is constant). We will explore this in the next notebook. \n",
    "\n",
    "As a last check up, let us evolution of the primal-dual gap as we keep iteration the domain decomposition algorithm. For this we start with a freshly copied plan `P`, "
   ]
  },
  {
   "cell_type": "code",
   "execution_count": 51,
   "id": "638521c0",
   "metadata": {},
   "outputs": [
    {
     "name": "stdout",
     "output_type": "stream",
     "text": [
      "Iter.\tRelative PD gap\n",
      "1\tInf\n",
      "2\t1.4685761177477217e66\n",
      "3\t7.782910571633858e43\n",
      "4\t0.0017055116095549383\n",
      "5\t0.0025816063860355084\n",
      "6\t0.0012902417826454328\n",
      "7\t0.002050018676764513\n",
      "8\t0.0009827350593915793\n",
      "9\t0.0016363003332709695\n",
      "10\t0.000768886340766128\n"
     ]
    }
   ],
   "source": [
    "P = deepcopy(P0)\n",
    "println(\"Iter.\\tRelative PD gap\")\n",
    "for i in 1:10\n",
    "    iterate_serial!(P, i, c, solver, params)\n",
    "    A = plan_to_dense_matrix(P, c)\n",
    "    a, b = smooth_alpha_and_beta_fields(P, c)\n",
    "    s1 = primal_score_dense(A, c, nu, mu, P.epsilon)\n",
    "    s2 = dual_score_dense(b, a, c, nu, mu, P.epsilon)\n",
    "    println(i,\"\\t\",(s1-s2)/s1)\n",
    "end"
   ]
  },
  {
   "cell_type": "code",
   "execution_count": null,
   "id": "aa559080",
   "metadata": {},
   "outputs": [],
   "source": []
  },
  {
   "cell_type": "code",
   "execution_count": null,
   "id": "714cec97",
   "metadata": {},
   "outputs": [],
   "source": []
  }
 ],
 "metadata": {
  "jupytext": {
   "encoding": "# -*- coding: utf-8 -*-",
   "formats": "ipynb,jl:light"
  },
  "kernelspec": {
   "display_name": "Julia 1.6.3",
   "language": "julia",
   "name": "julia-1.6"
  },
  "language_info": {
   "file_extension": ".jl",
   "mimetype": "application/julia",
   "name": "julia",
   "version": "1.6.3"
  }
 },
 "nbformat": 4,
 "nbformat_minor": 5
}
